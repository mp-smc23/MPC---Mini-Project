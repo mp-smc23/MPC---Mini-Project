{
 "cells": [
  {
   "cell_type": "code",
   "execution_count": null,
   "id": "48d7a9ef-80ad-4d11-8613-a9a356572895",
   "metadata": {},
   "outputs": [],
   "source": [
    "import pandas as pd\n",
    "import matplotlib.pyplot as plt"
   ]
  },
  {
   "cell_type": "markdown",
   "id": "92524ed0-d237-47ee-b758-823340b7a6f9",
   "metadata": {},
   "source": [
    "### Danish Version \n",
    "Human Tender - 1st Excerpt  \n",
    "AI Tender - 2st Excerpt  \n",
    "AI Relaxed - 3st Excerpt  \n",
    "Human Relaxed - 4st Excerpt  "
   ]
  },
  {
   "cell_type": "code",
   "execution_count": null,
   "id": "7beb1ad8-f9d0-4998-9cee-7b1331ea5135",
   "metadata": {},
   "outputs": [],
   "source": [
    "dfDK = pd.read_csv('Results/DK-Results-Human.csv', dtype=str, keep_default_na=False)\n",
    "dk = dfDK.copy()\n",
    "dk"
   ]
  },
  {
   "cell_type": "markdown",
   "id": "7a6d896c-16ac-4316-9347-205d4f913211",
   "metadata": {},
   "source": [
    "### Polish Version \n",
    "AI Tender - 1st Excerpt  \n",
    "Human Tender - 2st Excerpt  \n",
    "Human Relaxed - 3st Excerpt  \n",
    "AI Relaxed - 4st Excerpt  "
   ]
  },
  {
   "cell_type": "code",
   "execution_count": null,
   "id": "36f9c1cd-d9cd-4635-92d7-edcef54aa0c6",
   "metadata": {},
   "outputs": [],
   "source": [
    "dfPL = pd.read_csv('Results/PL-Results-AI.csv', dtype=str, keep_default_na=False)\n",
    "pl = dfPL.copy()\n",
    "pl['Recognized2']"
   ]
  },
  {
   "cell_type": "markdown",
   "id": "7e221037-a230-4016-abff-81ef9b295017",
   "metadata": {},
   "source": [
    "### Drop describtions and useless data"
   ]
  },
  {
   "cell_type": "code",
   "execution_count": null,
   "id": "ef6c4e19-bcae-4a47-839a-490fa4479778",
   "metadata": {},
   "outputs": [],
   "source": [
    "pl.drop([\"Calibration\",\"Dscr\",\"NoEmo1\",\"NoEmo2\",\"NoEmo3\",\"NoEmo4\",\"End\", \"Excerpt1\",\"Excerpt2\",\"Excerpt3\",\"Excerpt4\"], axis=1);\n",
    "dk.drop([\"Calibration\",\"Dscr\",\"NoEmo1\",\"NoEmo2\",\"NoEmo3\",\"NoEmo4\",\"End\", \"Excerpt1\",\"Excerpt2\",\"Excerpt3\",\"Excerpt4\"], axis=1);"
   ]
  },
  {
   "cell_type": "code",
   "execution_count": null,
   "id": "9307720a-8316-43dd-9f16-48d0b2b07332",
   "metadata": {},
   "outputs": [],
   "source": [
    "# DATA MAPPINGS\n",
    "label_mapping = {\n",
    "    'None': 1,\n",
    "    'Very weak': 2,\n",
    "    'Weak': 3,\n",
    "    'Mild': 4,\n",
    "    'Moderete': 5,\n",
    "    'Strong': 6,\n",
    "    'Very Strong': 7\n",
    "}\n",
    "\n",
    "# Map the string labels to numeric scales for specific columns\n",
    "emotion_columns = ['Pleasure', 'Displeasure', 'Awakeness', 'Sleepiness','Tension','Relaxation'];"
   ]
  },
  {
   "cell_type": "code",
   "execution_count": null,
   "id": "e597b0cb-7678-4c0d-9e0d-c37673acaea4",
   "metadata": {},
   "outputs": [],
   "source": [
    "def emotionLabelsToNumeric(df):\n",
    "    dfCopy = df.copy()\n",
    "    for col in emotion_columns:\n",
    "        dfCopy[col] = dfCopy[col].map(label_mapping)\n",
    "    return dfCopy\n",
    "\n",
    "def deleteColumnNumbers(df):\n",
    "    df.rename(columns=lambda x: ''.join([i for i in x if not i.isdigit()]), inplace=True)"
   ]
  },
  {
   "cell_type": "code",
   "execution_count": null,
   "id": "12862d6d-2b90-479f-a184-d2c985ca734f",
   "metadata": {},
   "outputs": [],
   "source": [
    "# Filter Emotions DK\n",
    "humanTenderDK = dk.filter(['Tags','Recognized1','Pleasure1','Displeasure1','Awakeness1','Sleepiness1','Tension1', 'Relaxation1'], axis=1)\n",
    "aiTenderDK = dk.filter(['Tags','Recognized2','Pleasure2','Displeasure2','Awakeness2','Sleepiness2','Tension2', 'Relaxation2'], axis=1)\n",
    "aiRelaxedDK = dk.filter(['Tags','Recognized3','Pleasure3','Displeasure3','Awakeness3','Sleepiness3','Tension3', 'Relaxation3'], axis=1)\n",
    "humanRelaxedDK = dk.filter(['Tags','Recognized4','Pleasure4','Displeasure4','Awakeness4','Sleepiness4','Tension4', 'Relaxation4'], axis=1)\n",
    "\n",
    "deleteColumnNumbers(humanTenderDK)\n",
    "deleteColumnNumbers(humanRelaxedDK)\n",
    "deleteColumnNumbers(aiTenderDK)\n",
    "deleteColumnNumbers(aiRelaxedDK)"
   ]
  },
  {
   "cell_type": "code",
   "execution_count": null,
   "id": "27bfa60a-1eac-4913-ae21-3f6f96ebdac2",
   "metadata": {},
   "outputs": [],
   "source": [
    "# Filter Emotions PL\n",
    "humanTenderPL = pl.filter(['Tags','Recognized1','Pleasure1','Displeasure1','Awakeness1','Sleepiness1','Tension1', 'Relaxation1'], axis=1)\n",
    "aiTenderPL = pl.filter(['Tags','Recognized2','Pleasure2','Displeasure2','Awakeness2','Sleepiness2','Tension2', 'Relaxation2'], axis=1)\n",
    "aiRelaxedPL = pl.filter(['Tags','Recognized3','Pleasure3','Displeasure3','Awakeness3','Sleepiness3','Tension3', 'Relaxation3'], axis=1)\n",
    "humanRelaxedPL = pl.filter(['Tags','Recognized4','Pleasure4','Displeasure4','Awakeness4','Sleepiness4','Tension4', 'Relaxation4'], axis=1)\n",
    "\n",
    "deleteColumnNumbers(humanTenderPL)\n",
    "deleteColumnNumbers(humanRelaxedPL)\n",
    "deleteColumnNumbers(aiTenderPL)\n",
    "deleteColumnNumbers(aiRelaxedPL)"
   ]
  },
  {
   "cell_type": "code",
   "execution_count": null,
   "id": "769c5d4d-32f2-4e98-b1a2-bcee9beeef36",
   "metadata": {},
   "outputs": [],
   "source": [
    "humanTender = pd.concat([humanTenderDK, humanTenderPL], ignore_index=True)\n",
    "aiTender = pd.concat([aiTenderDK, aiTenderPL], ignore_index=True)\n",
    "aiRelaxed = pd.concat([aiRelaxedDK, aiRelaxedPL], ignore_index=True)\n",
    "humanRelaxed = pd.concat([humanRelaxedDK, humanRelaxedPL], ignore_index=True)\n",
    "\n",
    "human = pd.concat([humanRelaxed, humanTender], ignore_index=True)\n",
    "ai = pd.concat([aiRelaxed, aiTender], ignore_index=True)"
   ]
  },
  {
   "cell_type": "code",
   "execution_count": null,
   "id": "1b15d2d7-8915-431c-8684-3e407931b8f2",
   "metadata": {},
   "outputs": [],
   "source": [
    "humanTender"
   ]
  },
  {
   "cell_type": "markdown",
   "id": "36baa2be-cc3b-4b38-91b9-8b134817de3d",
   "metadata": {},
   "source": [
    "## Data Analysis"
   ]
  },
  {
   "cell_type": "code",
   "execution_count": null,
   "id": "8ea530ba-58df-4521-8a3d-13447cae6518",
   "metadata": {},
   "outputs": [],
   "source": [
    "# Sprawdzenie czy ktokolwiek rozpoznał\n",
    "def findRecognized(df):\n",
    "    x = df.loc[df['Recognized']=='Yes']\n",
    "    if x.empty:\n",
    "        return None\n",
    "    return x"
   ]
  },
  {
   "cell_type": "code",
   "execution_count": null,
   "id": "f2915acd-7daf-4a73-872c-7cef525e30cf",
   "metadata": {},
   "outputs": [],
   "source": [
    "print(\"Human - Tender\")\n",
    "print(findRecognized(humanTender))\n",
    "print(\"\\n\")\n",
    "\n",
    "print(\"AI - Tender\")\n",
    "print(findRecognized(aiTender))\n",
    "print(\"\\n\")\n",
    "\n",
    "print(\"Human - Relaxed\")\n",
    "print(findRecognized(humanRelaxed))\n",
    "print(\"\\n\")\n",
    "\n",
    "print(\"AI - Relaxed\")\n",
    "print(findRecognized(aiRelaxed))\n",
    "\n",
    "# If sth gets recognized in Human (and its not a person who recognized ai too lol) filter them out"
   ]
  },
  {
   "cell_type": "code",
   "execution_count": null,
   "id": "7bd08126-5a4a-47c6-bf9d-0db2ef949899",
   "metadata": {},
   "outputs": [],
   "source": [
    "aiTenderDKNum = emotionLabelsToNumeric(aiTenderDK)\n",
    "humanTenderDKNum = emotionLabelsToNumeric(humanTenderDK)\n",
    "humanRelaxedDKNum = emotionLabelsToNumeric(humanRelaxedDK)\n",
    "aiRelaxedDKNum = emotionLabelsToNumeric(aiRelaxedDK)\n",
    "\n",
    "aiTenderPLNum = emotionLabelsToNumeric(aiTenderPL)\n",
    "humanTenderPLNum = emotionLabelsToNumeric(humanTenderPL)\n",
    "humanRelaxedPLNum = emotionLabelsToNumeric(humanRelaxedPL)\n",
    "aiRelaxedPLNum = emotionLabelsToNumeric(aiRelaxedPL)\n",
    "\n",
    "aiTenderNum = emotionLabelsToNumeric(aiTender)\n",
    "humanTenderNum = emotionLabelsToNumeric(humanTender)\n",
    "humanRelaxedNum = emotionLabelsToNumeric(humanRelaxed)\n",
    "aiRelaxedNum = emotionLabelsToNumeric(aiRelaxed)\n",
    "\n",
    "aiNum = emotionLabelsToNumeric(ai)\n",
    "humanNum = emotionLabelsToNumeric(human)"
   ]
  },
  {
   "cell_type": "code",
   "execution_count": null,
   "id": "c5f6f35e-b7eb-422d-9524-e874b32d35ce",
   "metadata": {},
   "outputs": [],
   "source": [
    "aiNum"
   ]
  },
  {
   "cell_type": "markdown",
   "id": "8e9fd5ea-7a9d-4263-80de-01b9ae483de8",
   "metadata": {},
   "source": [
    "## Plots"
   ]
  },
  {
   "cell_type": "code",
   "execution_count": null,
   "id": "af24506c-feb6-4825-ac8b-a4d9040f9460",
   "metadata": {
    "scrolled": true
   },
   "outputs": [],
   "source": [
    "aiNum[emotion_columns].plot(kind='box', title=\"AI Emotions\", subplots=True, sharey=True);\n",
    "humanNum[emotion_columns].plot(kind='box', title=\"Human Emotions\", subplots=True, sharey=True);\n",
    "\n",
    "for emotion in emotion_columns:\n",
    "    tmp = pd.concat([aiNum[emotion], humanNum[emotion]], axis='columns', keys= ['AI {}'.format(emotion), 'Human {}'.format(emotion)])\n",
    "    plot = tmp.plot(kind='box', title=\"AI vs Human - {:s}\".format(emotion))\n",
    "    \n",
    "    axes = plot.get_figure().gca()  # Get the axes object from the boxplot\n",
    "    axes.set_ylim(0.5, 7.5) # Set the limits for the y-axis"
   ]
  },
  {
   "cell_type": "code",
   "execution_count": null,
   "id": "64899ab5-5083-4d33-aa07-ac163878d5a5",
   "metadata": {},
   "outputs": [],
   "source": [
    "# TODO read about further analysis techniques"
   ]
  }
 ],
 "metadata": {
  "kernelspec": {
   "display_name": "Python 3 (ipykernel)",
   "language": "python",
   "name": "python3"
  },
  "language_info": {
   "codemirror_mode": {
    "name": "ipython",
    "version": 3
   },
   "file_extension": ".py",
   "mimetype": "text/x-python",
   "name": "python",
   "nbconvert_exporter": "python",
   "pygments_lexer": "ipython3",
   "version": "3.11.6"
  }
 },
 "nbformat": 4,
 "nbformat_minor": 5
}
